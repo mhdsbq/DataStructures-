{
 "metadata": {
  "language_info": {
   "codemirror_mode": {
    "name": "ipython",
    "version": 3
   },
   "file_extension": ".py",
   "mimetype": "text/x-python",
   "name": "python",
   "nbconvert_exporter": "python",
   "pygments_lexer": "ipython3",
   "version": "3.7.9"
  },
  "orig_nbformat": 4,
  "kernelspec": {
   "name": "python3",
   "display_name": "Python 3.7.9 64-bit"
  },
  "interpreter": {
   "hash": "8be7fbc789268433cdf0ea7a7845956e7d975fa9d41d64f30fea24cd6cfda4c5"
  }
 },
 "nbformat": 4,
 "nbformat_minor": 2,
 "cells": [
  {
   "source": [
    "## Building Hashmap class in python\n",
    "* a simple implimentation of hash table \n",
    "* ord returns the ascii value of a charector"
   ],
   "cell_type": "markdown",
   "metadata": {}
  },
  {
   "cell_type": "code",
   "execution_count": 30,
   "metadata": {},
   "outputs": [],
   "source": [
    "class HashTable:\n",
    "    def __init__(self):\n",
    "        self.MAX = 100\n",
    "        self.arr = [None for i in range(self.MAX)]\n",
    "    def getHash(self, key):\n",
    "        h = 0\n",
    "        for char in key:\n",
    "            h += ord(char)\n",
    "        return h % self.MAX  \n",
    "\n",
    "    def __setitem__(self,key,value):\n",
    "        h = self.getHash(key)\n",
    "        self.arr[h] = value\n",
    "\n",
    "    def __getitem__(self,key):\n",
    "        h = self.getHash(key)\n",
    "        return self.arr[h]  \n",
    "\n",
    "    def __delitem__(self,key):\n",
    "        h = self.getHash(key)\n",
    "        self.arr[h] = None    "
   ]
  },
  {
   "cell_type": "code",
   "execution_count": 19,
   "metadata": {},
   "outputs": [
    {
     "output_type": "stream",
     "name": "stdout",
     "text": [
      "10\nNone\n"
     ]
    }
   ],
   "source": [
    "d = HashTable()\n",
    "d.getHash(\"friday\")\n",
    "d.setter(\"friday\",10)\n",
    "print(d.getter(\"friday\"))\n",
    "d.det(\"friday\")\n",
    "print(d.getter(\"friday\"))"
   ]
  },
  {
   "cell_type": "code",
   "execution_count": 69,
   "metadata": {},
   "outputs": [
    {
     "output_type": "stream",
     "name": "stdout",
     "text": [
      "25\nNone\n53\n53\n"
     ]
    }
   ],
   "source": [
    "t = HashTable()\n",
    "t[\"sunday\"] = 25\n",
    "t[\"monday\"] = 45\n",
    "t[\"tueday\"] = 2\n",
    "t[\"friday\"] = 5\n",
    "print(t[\"sunday\"])\n",
    "del(t[\"sunday\"])\n",
    "print(t[\"sunday\"])\n",
    "print(t.getHash(\"march 11\"))\n",
    "print(t.getHash(\"march 20\"))\n"
   ]
  },
  {
   "source": [
    "## Handling collission\n",
    "* Earliar we stored value in index given by hashing on key\n",
    "* But if two keys have same "
   ],
   "cell_type": "markdown",
   "metadata": {}
  },
  {
   "cell_type": "code",
   "execution_count": 72,
   "metadata": {},
   "outputs": [],
   "source": [
    "# from old implimentation\n",
    "def hash(key):\n",
    "    h=0\n",
    "    for char in key:\n",
    "        h += ord(char)\n",
    "    print(h%100)\n",
    "    return h%100"
   ]
  },
  {
   "cell_type": "code",
   "execution_count": 73,
   "metadata": {},
   "outputs": [
    {
     "output_type": "stream",
     "name": "stdout",
     "text": [
      "53\n53\n"
     ]
    },
    {
     "output_type": "execute_result",
     "data": {
      "text/plain": [
       "53"
      ]
     },
     "metadata": {},
     "execution_count": 73
    }
   ],
   "source": [
    "hash(\"march 11\")\n",
    "hash(\"march 20\")\n",
    "\n",
    "# here 2 keys have same hash."
   ]
  },
  {
   "source": [
    "* Here 2 keys have same hash\n",
    "* To tackle this, we can store linked list with (key,value) pair in location pointed by hash "
   ],
   "cell_type": "markdown",
   "metadata": {}
  },
  {
   "cell_type": "code",
   "execution_count": 20,
   "metadata": {},
   "outputs": [],
   "source": [
    "class MetaHashTable: # chumma oru perittathaa :)\n",
    "    \"\"\" Unlike previous hash table this class can save multipple key value pairs at collition points\"\"\"\n",
    "\n",
    "    def __init__(self):\n",
    "        \"\"\"init a arrey of arreys\"\"\"\n",
    "        self.MAX = 10 # WAS 100 ----CHANGED FOR TESTING\n",
    "        self.arr = [[] for i in range(self.MAX)]\n",
    "\n",
    "    def getHash(self,key):\n",
    "        h=0\n",
    "        for char in key:\n",
    "            h += ord(char)\n",
    "        return h % self.MAX    \n",
    "    \n",
    "    def __setitem__(self,key,value):\n",
    "        # if any pair exist edit the value of that pair\n",
    "        h = self.getHash(key)\n",
    "        found = False\n",
    "        # Check for already existing key,value pair\n",
    "        for idx,element in  enumerate(self.arr[h]):\n",
    "            if len(element)==2 and element[0]==key:\n",
    "                # just change the element then (tuple cannot be changed so we replace tuple)\n",
    "                self.arr[h][idx] = (key,value)\n",
    "                found = True\n",
    "        # if not then  simply create a new key,value pair(we use tuple)\n",
    "        if not found:\n",
    "            self.arr[h].append((key,value))\n",
    "\n",
    "    def __getitem__(self,key):\n",
    "        h = self.getHash(key)\n",
    "        for element in self.arr[h]:\n",
    "            if element[0] == key:\n",
    "                return element[1]\n",
    "\n",
    "    def __delitem__(self,key):\n",
    "        h = self.getHash(key)\n",
    "        for idx,element in enumerate(self.arr[h]):\n",
    "            if element[0] == key:\n",
    "                del self.arr[h][idx]\n",
    "\n",
    " "
   ]
  },
  {
   "cell_type": "code",
   "execution_count": 4,
   "metadata": {},
   "outputs": [
    {
     "output_type": "stream",
     "name": "stdout",
     "text": [
      "124\n25\nNone\n"
     ]
    }
   ],
   "source": [
    "t = MetaHashTable()\n",
    "t[\"march 11\"] = 10\n",
    "t[\"march 20\"] = 25\n",
    "t[\"march 11\"] = 124\n",
    "print(t[\"march 11\"])\n",
    "print(t[\"march 20\"])\n",
    "print(t[\"march 25\"])\n",
    "del(t[\"march 11\"])"
   ]
  },
  {
   "source": [
    "# Exercise: Hash Table\n",
    "\n",
    "**(1)** [nyc_weather.csv](https://github.com/codebasics/data-structures-algorithms-python/blob/master/data_structures/4_HashTable_2_Collisions/Solution/nyc_weather.csv) contains new york city weather for first few days in the month of January. Write a program that can answer following,\n",
    "\n",
    "        (a) What was the average temperature in first week of Jan\n",
    "    \n",
    "        (b) What was the maximum temperature in first 10 days of Jan"
   ],
   "cell_type": "markdown",
   "metadata": {}
  },
  {
   "cell_type": "code",
   "execution_count": 25,
   "metadata": {},
   "outputs": [],
   "source": [
    "temperature = []\n",
    "with open(\"nyc_weather.csv\", 'r') as f:\n",
    "    for idx,line in enumerate(f):\n",
    "        token = line.split(',')\n",
    "        date = token[0]\n",
    "        temp = token[1][0:2]\n",
    "        if idx>0:\n",
    "            temperature.append(int(temp))\n"
   ]
  },
  {
   "cell_type": "code",
   "execution_count": 28,
   "metadata": {},
   "outputs": [
    {
     "output_type": "execute_result",
     "data": {
      "text/plain": [
       "31.285714285714285"
      ]
     },
     "metadata": {},
     "execution_count": 28
    }
   ],
   "source": [
    "# What was the average temperature in first week of Jan\n",
    "average = sum(temperature[0:7])/len(temperature[0:7])\n",
    "average"
   ]
  },
  {
   "cell_type": "code",
   "execution_count": 30,
   "metadata": {},
   "outputs": [
    {
     "output_type": "execute_result",
     "data": {
      "text/plain": [
       "38"
      ]
     },
     "metadata": {},
     "execution_count": 30
    }
   ],
   "source": [
    "# What was the maximum temperature in first 10 days of Jan\n",
    "max(temperature[0:10])"
   ]
  },
  {
   "source": [
    "\n",
    "**(2)** nyc_weather.csv contains new york city weather for first few days in the month of January. Write a program that can answer following, \n",
    "\n",
    "      (a) What was the temperature on Jan 9?\n",
    "\n",
    "      (b) What was the temperature on Jan 4?\n",
    "\n",
    "      Figure out data structure that is best for this problem"
   ],
   "cell_type": "markdown",
   "metadata": {}
  },
  {
   "cell_type": "code",
   "execution_count": 37,
   "metadata": {},
   "outputs": [
    {
     "output_type": "execute_result",
     "data": {
      "text/plain": [
       "[[('Jan 9', '35'), ('Jan 10', '30')],\n",
       " [],\n",
       " [('Jan 1', '27')],\n",
       " [('Jan 2', '31')],\n",
       " [('Jan 3', '23')],\n",
       " [('Jan 4', '34')],\n",
       " [('Jan 5', '37')],\n",
       " [('Jan 6', '38')],\n",
       " [('Jan 7', '29')],\n",
       " [('Jan 8', '30')]]"
      ]
     },
     "metadata": {},
     "execution_count": 37
    }
   ],
   "source": [
    "# Store this data in a hash table\n",
    "# \n",
    "nyc = MetaHashTable()\n",
    "with open(\"nyc_weather.csv\", 'r') as f:\n",
    "    for idx,line in enumerate(f):\n",
    "        token = line.split(\",\")\n",
    "        date = token[0]\n",
    "        temperature = token[1][0:2]\n",
    "        if idx>0:\n",
    "            nyc[date] = temperature\n",
    "nyc.arr"
   ]
  },
  {
   "cell_type": "code",
   "execution_count": 40,
   "metadata": {},
   "outputs": [
    {
     "output_type": "stream",
     "name": "stdout",
     "text": [
      "35\n34\n"
     ]
    }
   ],
   "source": [
    "print(nyc['Jan 9'])\n",
    "print(nyc['Jan 4'])"
   ]
  },
  {
   "source": [
    "The best data structure to use here was a dictionary (internally a hash table) because we wanted to know temperature for specific day, requiring key, value pair access where you can look up an element by day using O(1) complexity"
   ],
   "cell_type": "markdown",
   "metadata": {}
  },
  {
   "source": [
    "<h2 style='color:purple' align='center'>Implement hash table collision handling using linear probing</h2>"
   ],
   "cell_type": "markdown",
   "metadata": {}
  }
 ]
}