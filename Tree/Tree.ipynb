{
 "metadata": {
  "language_info": {
   "codemirror_mode": {
    "name": "ipython",
    "version": 3
   },
   "file_extension": ".py",
   "mimetype": "text/x-python",
   "name": "python",
   "nbconvert_exporter": "python",
   "pygments_lexer": "ipython3",
   "version": "3.7.9"
  },
  "orig_nbformat": 4,
  "kernelspec": {
   "name": "python3",
   "display_name": "Python 3.7.9 64-bit"
  },
  "interpreter": {
   "hash": "8be7fbc789268433cdf0ea7a7845956e7d975fa9d41d64f30fea24cd6cfda4c5"
  }
 },
 "nbformat": 4,
 "nbformat_minor": 2,
 "cells": [
  {
   "source": [
    "# Tree Data structure\n",
    "## General Tree"
   ],
   "cell_type": "markdown",
   "metadata": {}
  },
  {
   "cell_type": "code",
   "execution_count": 27,
   "metadata": {},
   "outputs": [
    {
     "output_type": "stream",
     "name": "stdout",
     "text": [
      " Electronics\n   |__ Laptop\n      |__ Mac\n      |__ surface\n      |__ Thinkpad\n   |__ Smartphone\n      |__ iphone\n      |__ samsung\n      |__ oppo\n   |__ TV\n      |__ oneplus\n      |__ LG\n"
     ]
    }
   ],
   "source": [
    "class TreeNode:\n",
    "    def __init__(self,data):\n",
    "        self.data = data\n",
    "        self.children =[]\n",
    "        self.parent = None\n",
    "    \n",
    "    def add_child(self, child):\n",
    "        child.parent = self\n",
    "        self.children.append(child)\n",
    "\n",
    "    def get_level(self):\n",
    "        level = 0\n",
    "        p = self.parent\n",
    "        while p:\n",
    "            level += 1\n",
    "            p = p.parent\n",
    "        return level     \n",
    "\n",
    "    def print_tree(self):\n",
    "        prefix = \" \" * self.get_level()*3 + \"|__\" if self.parent else \"\"\n",
    "        print(prefix,self.data)\n",
    "        if self.children:\n",
    "            for child in self.children:\n",
    "                child.print_tree()\n",
    "\n",
    "def build_tree():\n",
    "    root = TreeNode(\"Electronics\")\n",
    "\n",
    "    laptop = TreeNode(\"Laptop\")\n",
    "    laptop.add_child(TreeNode(\"Mac\"))\n",
    "    laptop.add_child(TreeNode(\"surface\"))\n",
    "    laptop.add_child(TreeNode(\"Thinkpad\"))\n",
    "\n",
    "    smartphone = TreeNode(\"Smartphone\")\n",
    "    smartphone.add_child(TreeNode(\"iphone\"))\n",
    "    smartphone.add_child(TreeNode(\"samsung\"))\n",
    "    smartphone.add_child(TreeNode(\"oppo\"))\n",
    "\n",
    "    tv = TreeNode(\"TV\")\n",
    "    tv.add_child(TreeNode(\"oneplus\"))\n",
    "    tv.add_child(TreeNode(\"LG\"))\n",
    "\n",
    "    root.add_child(laptop)\n",
    "    root.add_child(smartphone)\n",
    "    root.add_child(tv)\n",
    "    \n",
    "    return root\n",
    "\n",
    "if __name__ == \"__main__\":\n",
    "    root = build_tree()\n",
    "    root.print_tree()    \n"
   ]
  },
  {
   "cell_type": "code",
   "execution_count": 36,
   "metadata": {},
   "outputs": [
    {
     "output_type": "stream",
     "name": "stdout",
     "text": [
      " Nilpul\n   |__ chinmay\n      |__ vishwa\n         |__ dhaval\n         |__ abijit\n      |__ amir\n   |__ Gels\n      |__ peter\n      |__ waqas\n"
     ]
    }
   ],
   "source": [
    "# Build this\n",
    "\n",
    "# Nilpul (CEO)\n",
    "#     |__Chinmay (CTO)\n",
    "#         |__viswa\n",
    "#             |__dhaval\n",
    "#             |__Abhijit\n",
    "#         |__amir\n",
    "#     |__Gels (HR HEAD)\n",
    "#         |__peter\n",
    "#         |__Waqas \n",
    "\n",
    "def build_company_tree():\n",
    "    CEO = TreeNode(\"Nilpul\")\n",
    "\n",
    "    CTO = TreeNode(\"chinmay\")\n",
    "    vishwa = TreeNode(\"vishwa\")\n",
    "    vishwa.add_child(TreeNode(\"dhaval\"))\n",
    "    vishwa.add_child(TreeNode(\"abijit\"))\n",
    "    amir = TreeNode(\"amir\")\n",
    "\n",
    "    CTO.add_child(vishwa)\n",
    "    CTO.add_child(amir)\n",
    "    \n",
    "    HR = TreeNode(\"Gels\")\n",
    "    peter = TreeNode(\"peter\")\n",
    "    waqas = TreeNode(\"waqas\")\n",
    "    HR.add_child(peter)\n",
    "    HR.add_child(waqas)\n",
    "\n",
    "    CEO.add_child(CTO)\n",
    "    CEO.add_child(HR)\n",
    "\n",
    "    CEO.print_tree()\n",
    "\n",
    "build_company_tree()"
   ]
  },
  {
   "source": [
    "## Binary Tree\n",
    "* Each node has at max 2 children\n",
    "* left child is always less than right node\n",
    "* This makes serching easier"
   ],
   "cell_type": "markdown",
   "metadata": {}
  },
  {
   "cell_type": "code",
   "execution_count": 50,
   "metadata": {},
   "outputs": [
    {
     "output_type": "stream",
     "name": "stdout",
     "text": [
      "[0, 1, 2, 4, 6, 7, 9, 10, 17, 32]\n"
     ]
    }
   ],
   "source": [
    "class BinarySearchTreeNode:\n",
    "    def __init__(self,data):\n",
    "        self.data = data\n",
    "        self.left = None\n",
    "        self.right = None\n",
    "\n",
    "    def add_child(self,child_data):\n",
    "        if child_data == self.data:\n",
    "            return\n",
    "        if child_data > self.data:\n",
    "            # add to right side \n",
    "            if self.right:\n",
    "                self.right.add_child(child_data)\n",
    "            else:\n",
    "                self.right = BinarySearchTreeNode(child_data)\n",
    "        else:\n",
    "            # add to left side            \n",
    "            if self.left:\n",
    "                self.left.add_child(child_data)\n",
    "            else:\n",
    "                self.left = BinarySearchTreeNode(child_data)\n",
    "\n",
    "    def in_oreder_traversal(self):\n",
    "        elements = []\n",
    "        # First check left subtree\n",
    "        # then node root\n",
    "        # Then right sub tree\n",
    "        if self.left:\n",
    "            elements += self.left.in_oreder_traversal()\n",
    "\n",
    "        elements.append(self.data)\n",
    "\n",
    "        if self.right:\n",
    "            elements += self.right.in_oreder_traversal()\n",
    "        return elements\n",
    "    def search(self,val):\n",
    "        # check the root \n",
    "        # if less than root might be in left sub tree\n",
    "        # else might be in right subtree\n",
    "\n",
    "        if val == self.data:\n",
    "            return data\n",
    "        \n",
    "        if self.left and val < self.data:\n",
    "            return self.left.search(val)\n",
    "        \n",
    "        elif self.right: \n",
    "            return self.right.search(val)            \n",
    "        else:\n",
    "            return False\n",
    "def build_tree(elements):\n",
    "    root = BinarySearchTreeNode(elements[0])\n",
    "\n",
    "    for i in range(1,len(elements)):\n",
    "        root.add_child(elements[i])\n",
    "\n",
    "    return root\n",
    "\n",
    "\n",
    "if __name__ == \"__main__\":\n",
    "    numbers = [7,4,32,6,9,10,17,9,0,1,2,4]\n",
    "    numbers_tree = build_tree(numbers)\n",
    "    print(numbers_tree.in_oreder_traversal())\n",
    "\n",
    "\n",
    "\n"
   ]
  },
  {
   "cell_type": "code",
   "execution_count": null,
   "metadata": {},
   "outputs": [],
   "source": []
  }
 ]
}