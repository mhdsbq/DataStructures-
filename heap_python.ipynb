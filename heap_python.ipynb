{
 "metadata": {
  "language_info": {
   "codemirror_mode": {
    "name": "ipython",
    "version": 3
   },
   "file_extension": ".py",
   "mimetype": "text/x-python",
   "name": "python",
   "nbconvert_exporter": "python",
   "pygments_lexer": "ipython3",
   "version": "3.7.9"
  },
  "orig_nbformat": 4,
  "kernelspec": {
   "name": "python3",
   "display_name": "Python 3.7.9 64-bit"
  },
  "interpreter": {
   "hash": "8be7fbc789268433cdf0ea7a7845956e7d975fa9d41d64f30fea24cd6cfda4c5"
  }
 },
 "nbformat": 4,
 "nbformat_minor": 2,
 "cells": [
  {
   "source": [
    "## Implimenting a MAX HEAP class in python\n",
    "* Index of an element   -> i\n",
    "* Index of it's parent  -> i//2\n",
    "* Index of Left child   -> i*2\n",
    "* Index of right child  -> i*2+1 \n"
   ],
   "cell_type": "markdown",
   "metadata": {}
  },
  {
   "cell_type": "code",
   "execution_count": 41,
   "metadata": {},
   "outputs": [],
   "source": [
    "# Python MaxHeap\n",
    "# public functions - push,pop,peek\n",
    "# Privet functions - __swap, __bubbleDown, __floatUp\n",
    "\n",
    "class MaxHeap:\n",
    "    def __init__(self, items=[]):\n",
    "        super().__init__()\n",
    "        self.heap = [0]\n",
    "        for i in items:\n",
    "            self.heap.append(i)\n",
    "            self.__floatUp(len(self.heap)-1)\n",
    "    def __len__(self):\n",
    "        return len(self.heap)-1     \n",
    "    def __str__(self):\n",
    "        return f\"{self.heap[1:]}\"         \n",
    "    def push(self, data):\n",
    "        self.heap.append(data)\n",
    "        self.__floatUp(len(self.heap)-1)\n",
    "\n",
    "    def peek(self):\n",
    "        if self.heap[1]:\n",
    "            return self.heap[1]\n",
    "        else:\n",
    "            return False\n",
    "\n",
    "    def pop(self):\n",
    "        if len(self.heap) >2:\n",
    "            self.__swap(1, len(self.heap)-1)\n",
    "            max = self.heap.pop() \n",
    "            self.__bubbleDown(1)\n",
    "        elif len(self.heap) == 2:\n",
    "            max = self.heap.pop() \n",
    "\n",
    "        else:\n",
    "            max = False\n",
    "        return max\n",
    "\n",
    "    def __swap(self, i,j):\n",
    "        self.heap[i], self.heap[j] = self.heap[j], self.heap[i]\n",
    "\n",
    "    def __floatUp(self, index):\n",
    "        parent = index //2\n",
    "        if index <=1:\n",
    "            return\n",
    "        elif self.heap[index] > self.heap[parent]:\n",
    "            self.__swap(index, parent)\n",
    "            self.__floatUp(parent)\n",
    "\n",
    "    # def __bubbleDown(self, index):\n",
    "    #     left = index*2\n",
    "    #     right = index*2+1\n",
    "    #     largest = index\n",
    "    #     if len(self.heap) > right:\n",
    "    #         if self.heap[left]>self.heap[right]:\n",
    "    #             largest = left\n",
    "    #         elif self.heap[right] > self.heap[left]:\n",
    "    #             largest = right\n",
    "    #     elif len(self.heap) > left:\n",
    "    #         largest = left\n",
    "    #     if self.heap[largest] > self.heap[index] and largest != index:\n",
    "    #         self.__swap(index, largest)\n",
    "    #         self.__bubbleDown(largest)\n",
    "    def __bubbleDown(self, index):\n",
    "        left = index * 2\n",
    "        right = index * 2 + 1\n",
    "        largest = index\n",
    "        if len(self.heap) > left and self.heap[largest] < self.heap[left]:\n",
    "            largest = left\n",
    "        if len(self.heap) > right and self.heap[largest] < self.heap[right]:\n",
    "            largest = right\n",
    "        if largest != index:\n",
    "            self.__swap(index, largest)\n",
    "            self.__bubbleDown(largest)\n",
    "\n",
    "\n"
   ]
  },
  {
   "cell_type": "code",
   "execution_count": 42,
   "metadata": {},
   "outputs": [
    {
     "output_type": "stream",
     "name": "stdout",
     "text": [
      "8\ntop value: 8\n8\n8\nNone\n10\n"
     ]
    }
   ],
   "source": [
    "heap = MaxHeap([5,6,3,8,2,0,1,8])\n",
    "print(len(heap))\n",
    "print(f\"top value: {heap.peek()}\")\n",
    "print(heap.pop())\n",
    "print(heap.pop())\n",
    "print(heap.push(10))\n",
    "print(heap.pop())"
   ]
  },
  {
   "cell_type": "code",
   "execution_count": 43,
   "metadata": {},
   "outputs": [
    {
     "output_type": "stream",
     "name": "stdout",
     "text": [
      "[10, 9, 6, 5, 7, 5]\n[9, 7, 6, 5, 5]\n[7, 5, 6, 5]\n[7, 5, 6, 5, 1]\n7\n[6, 5, 1, 5]\n6\n"
     ]
    }
   ],
   "source": [
    "heap = MaxHeap([7,5,6,9,10,5])\n",
    "print(heap)\n",
    "heap.pop()\n",
    "print(heap)\n",
    "heap.pop()\n",
    "print(heap)\n",
    "heap.push(1)\n",
    "print(heap)\n",
    "print(heap.pop())\n",
    "print(heap)\n",
    "print(heap.pop())"
   ]
  },
  {
   "source": [
    "## MinHeap\n"
   ],
   "cell_type": "markdown",
   "metadata": {}
  },
  {
   "cell_type": "code",
   "execution_count": 55,
   "metadata": {},
   "outputs": [],
   "source": [
    "# minheap \n",
    "# lowest number as parent\n",
    "# each element has a larger parent and smaller childern\n",
    "\n",
    "class MinHeap:\n",
    "    # init function take a list of elements and convert it into min heap\n",
    "    # take each element at once add it to the heap bottom\n",
    "    # Float up towards top\n",
    "\n",
    "    def __init__(self, items=[]):\n",
    "        super().__init__()\n",
    "        self.heap =[0]\n",
    "        for i in items:\n",
    "            self.heap.append(i)\n",
    "            self.__floatUp(len(self.heap)-1)\n",
    "\n",
    "    def __str__(self):\n",
    "        return str(self.heap[1:])        \n",
    "\n",
    "    # push\n",
    "    def push(self, data):\n",
    "        self.heap.append(data)\n",
    "        self.__floatUp(len(self.heap)-1)\n",
    "    \n",
    "    # pop\n",
    "    def pop(self):\n",
    "        if len(self.heap)==2:\n",
    "            min = self.heap.pop()\n",
    "        elif len(self.heap)>2:\n",
    "            self.__swap(1,len(self.heap)-1)\n",
    "            min = self.heap.pop()\n",
    "            self.__bubbleDown(1)\n",
    "    \n",
    "    # peek\n",
    "    def peek(self):\n",
    "        if self.heap[1]:\n",
    "            return self.heap[1]\n",
    "        else: \n",
    "            return False\n",
    "\n",
    "\n",
    "    def __swap(self, i, j):\n",
    "        self.heap[i], self.heap[j] = self.heap[j], self.heap[i]\n",
    "\n",
    "    def __floatUp(self, index):\n",
    "        # For a min heap\n",
    "        # compare with parent \n",
    "        # if number less than parent, do swap, then float up parent\n",
    "        parent = index//2\n",
    "        if index <= 1:\n",
    "            return\n",
    "        elif self.heap[index] < self.heap[parent]:\n",
    "            self.__swap(index, parent)\n",
    "            self.__floatUp(parent)\n",
    "\n",
    "    # __bubbleDown \n",
    "    def __bubbleDown(self, index):\n",
    "        # at first some elemet will be at top\n",
    "        # compare it with children\n",
    "        # first with left, then right\n",
    "        # if so, fiend smallest elemet index or right or left\n",
    "        # if swap index with right or left \n",
    "        # then recursivly bubble down child\n",
    "        left = index*2\n",
    "        right = index*2+1\n",
    "        smallest = index\n",
    "        # Left child exist and it is less than index(parrent)\n",
    "        if len(self.heap) > left and self.heap[left] < self.heap[index]:\n",
    "            smallest = left\n",
    "        if len(self.heap) > right and self.heap[right] < self.heap[index]:\n",
    "            smallest = right\n",
    "        if smallest!=index:\n",
    "            self.__swap(index,smallest)\n",
    "            self.__bubbleDown(smallest)           \n",
    "             \n",
    "\n"
   ]
  },
  {
   "cell_type": "code",
   "execution_count": 57,
   "metadata": {},
   "outputs": [
    {
     "output_type": "stream",
     "name": "stdout",
     "text": [
      "[1, 5, 2, 7, 8, 3]\n[0, 1, 2, 5, 8, 3, 10, 7]\n"
     ]
    }
   ],
   "source": [
    "minhp = MinHeap([5,3,2,7,8,1])\n",
    "print(minhp)\n",
    "minhp.push(10)\n",
    "minhp.push(0)\n",
    "print(minhp)"
   ]
  },
  {
   "cell_type": "code",
   "execution_count": null,
   "metadata": {},
   "outputs": [],
   "source": []
  }
 ]
}